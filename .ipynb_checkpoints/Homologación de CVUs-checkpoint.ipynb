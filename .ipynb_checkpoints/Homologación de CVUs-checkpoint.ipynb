{
 "cells": [
  {
   "cell_type": "markdown",
   "id": "eb9c3ca8-d989-41c2-9042-a75b512d8010",
   "metadata": {},
   "source": [
    "<div style=\"background-color:#1a396a; color:white; padding:10px; border-radius:5px;\">\n",
    "    <p style=\"text-align:center;\">\n",
    "        <a href=\"http://www.ittoluca.edu.mx\" target=\"_blank\">\n",
    "            <img src=\"Images/escudoITTol.png\" width=\"120\" align=\"right\" style=\"background-color: transparent;\" />\n",
    "        </a>\n",
    "    </p>\n",
    "\n",
    "# Homologación de CVUs SECIHTI-PRODEP-TECNM\n",
    "</div>"
   ]
  },
  {
   "cell_type": "markdown",
   "id": "49c0a902-5b61-490c-b0a9-4e8569aef96c",
   "metadata": {},
   "source": [
    "<div style=\"background-color:#1a396a; color:white; padding:10px; border-radius:5px;\">\n",
    "    \n",
    "## CVU en tres plataformas\n",
    "</div>"
   ]
  },
  {
   "cell_type": "markdown",
   "id": "1fe0b2c6-124a-4a17-91b7-a4f0eec09b5a",
   "metadata": {},
   "source": [
    "<p style=\"text-align:center\">\n",
    "    <img src=\"Images/Triplicidad.png\" width=\"550\" align=\"center\"/>\n",
    "</p>"
   ]
  },
  {
   "cell_type": "markdown",
   "id": "db3f4bbe-6acf-43ef-a249-201b7416270d",
   "metadata": {},
   "source": [
    "<div style=\"background-color:#1a396a; color:white; padding:10px; border-radius:5px;\">\n",
    "\n",
    "## Problema\n",
    "</div>"
   ]
  },
  {
   "cell_type": "markdown",
   "id": "deb066d7-b95a-4d69-8c5e-02aaa8060976",
   "metadata": {},
   "source": [
    "El **CVU** (información de una persona) se captura y actualiza en diferentes plataformas ocasionando: \n",
    "- Elevado número de “horas-hombre” empleadas para integrar el CVU en las tres plataformas.\n",
    "- Misma información, capturada por triplicado.\n",
    "- Inconsistencias en la información por: a)  errores de captura, b) captura de campos diferentes, c) omisiones en la actualización de información en alguna plataforma.\n",
    "\n",
    "<p style=\"text-align:center\">\n",
    "    <img src=\"Images/Tabla.png\" width=\"550\" align=\"center\"/>\n",
    "</p>"
   ]
  },
  {
   "attachments": {},
   "cell_type": "markdown",
   "id": "fb7cb9f4-1015-4288-a022-949e8965203a",
   "metadata": {},
   "source": [
    "<div style=\"background-color:#1a396a; color:white; padding:10px; border-radius:5px;\">\n",
    "    \n",
    "## Solución propuesta\n",
    "</div>"
   ]
  },
  {
   "cell_type": "markdown",
   "id": "dffa4050-55b8-4c7d-ab74-149cc29b97ea",
   "metadata": {},
   "source": [
    "- El CVU sólo se captura y actualiza en la plataforma de la SECIHTI.\n",
    "- La SECIHTI permite exportar el CVU en los formatos PDF y XML (similares a los obtenidos en un sistema de facturación).\n",
    "- El CVU en formato XML, se emplea para integrar o actualizar el CVU del PRODEP y del TecNM.\n",
    "\n",
    "<p style=\"text-align:center\">\n",
    "    <img src=\"Images/Esquema.png\" width=\"500\" align=\"center\" />\n",
    "</p>\n",
    "\n",
    "La estructura de los archivos **XML**, será validada con el uso de esquemas (e.g. **DTD**, **XSD**) y ontologías (e.g. **OWL**) buscando la estandarización e interoperabilidad de la información en las diferentes plataformas."
   ]
  },
  {
   "cell_type": "markdown",
   "id": "247276d5-f231-4ccf-b151-8ce466928a76",
   "metadata": {},
   "source": [
    "<div style=\"background-color:#1a396a; color:white; padding:10px; border-radius:5px;\">\n",
    "\n",
    "## Requisitos\n",
    "</div>"
   ]
  },
  {
   "cell_type": "markdown",
   "id": "75a12627-10c3-4a34-a260-581f756bf63b",
   "metadata": {},
   "source": [
    "Considerando el **CVU-SECIHTI** como fuente de información principal para integrar o actualizar un **CVU** en otras plataformas.\n",
    "- Conocer el esquema (estructura) de la base de datos del **CVU-SECIHTI** para elaborar sus respectivos esquemas (**DTD**) y ontologías (**OWL**).\n",
    "- Conocer el esquema (estructura) de la base de datos de los **CVU-PRODEP** y **CVU-TeCNM** para establecer los procedimientos de intercambio de información entre los CVUs.\n",
    "\n",
    "<p style=\"text-align:center\">\n",
    "    <img src=\"Images/Esquema.png\" width=\"500\" align=\"center\" />\n",
    "</p>"
   ]
  },
  {
   "cell_type": "markdown",
   "id": "d4d20d47-726c-452e-bb1f-185196fbde84",
   "metadata": {},
   "source": [
    "<div style=\"background-color:#1a396a; color:white; padding:10px; border-radius:5px;\">\n",
    "\n",
    "## Aplicación de XSD y DTD\n",
    "</div>"
   ]
  },
  {
   "cell_type": "markdown",
   "id": "4d449cc2-6893-4a4b-acb5-d5c4406fe58a",
   "metadata": {},
   "source": [
    "Para unificar los datos se propone el uso de un esquema **XSD** para poder validar que los datos ingresados cumplan las condiciones y opciones dadas; por otro lado, el **DTD** valida que el orden sea el correcto."
   ]
  },
  {
   "cell_type": "markdown",
   "id": "fac4aa9e-6f70-4f83-baf3-5ef42b53d3d1",
   "metadata": {},
   "source": [
    "<div style=\"background-color:#1a396a; color:white; padding:10px; border-radius:5px;\">\n",
    "\n",
    "### Ejemplo de esquema XSD\n",
    "</div>"
   ]
  },
  {
   "cell_type": "markdown",
   "id": "56249abd-ce21-4341-be6e-720a54ee12c1",
   "metadata": {},
   "source": [
    "```XSD\n",
    "<?xml version=\"1.0\" encoding=\"UTF-8\"?>\n",
    "<xs:schema xmlns:xs=\"http://www.w3.org/2001/XMLSchema\">\n",
    "    <xs:element name=\"cvu\">\n",
    "        <xs:complexType>\n",
    "            <xs:sequence>\n",
    "                <xs:element name=\"personalData\">\n",
    "                    <xs:complexType>\n",
    "                        <xs:sequence>\n",
    "                            <xs:element name=\"CURP\" type=\"CURPType\"/>\n",
    "                            <xs:element name=\"RFC\" type=\"RFCType\"/>\n",
    "                            <xs:element name=\"Sexo\">\n",
    "                                <xs:simpleType>\n",
    "                                    <xs:restriction base=\"xs:string\">\n",
    "                                        <xs:enumeration value=\"Masculino\"/>\n",
    "                                        <xs:enumeration value=\"Femenino\"/>\n",
    "                                    </xs:restriction>\n",
    "                                </xs:simpleType>\n",
    "                            </xs:element>\n",
    "                            <xs:element name=\"Domicilio\" type=\"xs:string\"/>\n",
    "                            <xs:element name=\"FechaNacimiento\">\n",
    "                                <xs:simpleType>\n",
    "                                    <xs:restriction base=\"xs:date\"/>\n",
    "                                </xs:simpleType>\n",
    "                            </xs:element>\n",
    "                            <xs:element name=\"PaisNacimiento\" type=\"xs:string\"/>\n",
    "                            <xs:element name=\"Nacionalidad\" type=\"xs:string\"/>\n",
    "                            <xs:element name=\"EstadoCivil\">\n",
    "                                <xs:simpleType>\n",
    "                                    <xs:restriction base=\"xs:string\">\n",
    "                                        <xs:enumeration value=\"Soltero(a)\"/>\n",
    "                                        <xs:enumeration value=\"Casado(a)\"/>\n",
    "                                        <xs:enumeration value=\"Divorciado(a)\"/>\n",
    "                                        <xs:enumeration value=\"Viudo(a)\"/>\n",
    "                                    </xs:restriction>\n",
    "                                </xs:simpleType>\n",
    "                            </xs:element>\n",
    "                        </xs:sequence>\n",
    "                    </xs:complexType>\n",
    "                </xs:element>\n",
    "            </xs:sequence>\n",
    "        </xs:complexType>\n",
    "    </xs:element>\n",
    "\n",
    "    <!-- Validación CURP (18 caracteres con patrón) -->\n",
    "    <xs:simpleType name=\"CURPType\">\n",
    "        <xs:restriction base=\"xs:string\">\n",
    "            <xs:pattern value=\"[A-Z]{4}[0-9]{6}[A-Z]{6}[0-9]{2}\"/>\n",
    "        </xs:restriction>\n",
    "    </xs:simpleType>\n",
    "\n",
    "    <!-- Validación RFC (13 caracteres alfanuméricos) -->\n",
    "    <xs:simpleType name=\"RFCType\">\n",
    "        <xs:restriction base=\"xs:string\">\n",
    "            <xs:pattern value=\"[A-Z]{4}[0-9]{6}[A-Z0-9]{3}\"/>\n",
    "        </xs:restriction>\n",
    "    </xs:simpleType>\n",
    "\n",
    "</xs:schema>\n",
    "```"
   ]
  },
  {
   "cell_type": "markdown",
   "id": "8739d4a0-bfd7-43e4-ba88-db4e9003d9a3",
   "metadata": {},
   "source": [
    "<div style=\"background-color:#1a396a; color:white; padding:10px; border-radius:5px;\">\n",
    "\n",
    "### Ejemplo de esquema DTD\n",
    "\n",
    "</div>"
   ]
  },
  {
   "cell_type": "markdown",
   "id": "85abded7-f6ec-4e0b-8681-17d3cc52fac8",
   "metadata": {},
   "source": [
    "```DTD\n",
    "<!ELEMENT cvu (personalData)>\n",
    "<!ATTLIST cvu\n",
    "    xmlns:xsi CDATA #FIXED \"http://www.w3.org/2001/XMLSchema-instance\"\n",
    "    xsi:noNamespaceSchemaLocation CDATA #IMPLIED>\n",
    "<!ELEMENT personalData (CURP, RFC, Sexo, Domicilio, FechaNacimiento, PaisNacimiento, Nacionalidad, EstadoCivil)>\n",
    "<!ELEMENT CURP (#PCDATA)>\n",
    "<!ELEMENT RFC (#PCDATA)>\n",
    "<!ELEMENT Sexo (#PCDATA)>\n",
    "<!ELEMENT Domicilio (#PCDATA)>\n",
    "<!ELEMENT FechaNacimiento (#PCDATA)>\n",
    "<!ELEMENT PaisNacimiento (#PCDATA)>\n",
    "<!ELEMENT Nacionalidad (#PCDATA)>\n",
    "<!ELEMENT EstadoCivil (#PCDATA)>\n",
    "```"
   ]
  },
  {
   "cell_type": "markdown",
   "id": "ca9fce5b-4243-41cc-bf9c-4920e1e37d12",
   "metadata": {},
   "source": [
    "<div style=\"background-color:#1a396a; color:white; padding:10px; border-radius:5px;\">\n",
    "\n",
    "## Aplicación de ontología OWL mediante un RDF\n",
    "</div>"
   ]
  },
  {
   "cell_type": "markdown",
   "id": "e8561a24-9bf5-4fa5-a7a8-6e876e2f096c",
   "metadata": {},
   "source": [
    "Para validar la correcta aplicación de la ontología **OWL** se tomará el formato **XML** y mediante un código de **Python** se transformará a **RDF**. Esto permite agregar significado más natural a los datos curriculares y mejorar la reutilización en distintos sistemas."
   ]
  },
  {
   "cell_type": "markdown",
   "id": "485612a3-6a23-4ced-8b7b-5fe81fcf8b11",
   "metadata": {},
   "source": [
    "<div style=\"background-color:#1a396a; color:white; padding:10px; border-radius:5px;\">\n",
    "    \n",
    "### Ejemplo de ontología OWL\n",
    "</div>"
   ]
  },
  {
   "cell_type": "markdown",
   "id": "930ce38b-bc42-488f-8c38-2ee7fdcd1b5e",
   "metadata": {},
   "source": [
    "```OWL\n",
    "<rdf:RDF xmlns:rdf=\"http://www.w3.org/1999/02/22-rdf-syntax-ns#\"\n",
    "         xmlns:rdfs=\"http://www.w3.org/2000/01/rdf-schema#\"\n",
    "         xmlns:owl=\"http://www.w3.org/2002/07/owl#\"\n",
    "         xmlns:xsd=\"http://www.w3.org/2001/XMLSchema#\"\n",
    "         xmlns:cvu=\"http://ejemplo.com/cvu#\"\n",
    "         xml:base=\"http://ejemplo.com/cvu#\"\n",
    "         ontologyIRI=\"http://ejemplo.com/cvu\">\n",
    "\n",
    "    <owl:Ontology rdf:about=\"http://ejemplo.com/cvu\"/>\n",
    "\n",
    "    <!-- Clase principal -->\n",
    "    <owl:Class rdf:about=\"cvu:InformacionGeneral\"/>\n",
    "\n",
    "    <!-- Propiedades de datos -->\n",
    "    <owl:DatatypeProperty rdf:about=\"cvu:CURP\">\n",
    "        <rdfs:domain rdf:resource=\"cvu:InformacionGeneral\"/>\n",
    "        <rdfs:range rdf:resource=\"xsd:string\"/>\n",
    "        <rdfs:comment xml:lang=\"es\">Clave única de registro de población (18 caracteres).</rdfs:comment>\n",
    "    </owl:DatatypeProperty>\n",
    "\n",
    "    <owl:DatatypeProperty rdf:about=\"cvu:RFC\">\n",
    "        <rdfs:domain rdf:resource=\"cvu:InformacionGeneral\"/>\n",
    "        <rdfs:range rdf:resource=\"xsd:string\"/>\n",
    "        <rdfs:comment xml:lang=\"es\">Registro Federal de Contribuyentes (13 caracteres).</rdfs:comment>\n",
    "    </owl:DatatypeProperty>\n",
    "\n",
    "    <owl:DatatypeProperty rdf:about=\"cvu:FechaNacimiento\">\n",
    "        <rdfs:domain rdf:resource=\"cvu:InformacionGeneral\"/>\n",
    "        <rdfs:range rdf:resource=\"xsd:date\"/>\n",
    "        <rdfs:comment xml:lang=\"es\">Fecha de nacimiento en formato YYYY-MM-DD.</rdfs:comment>\n",
    "    </owl:DatatypeProperty>\n",
    "\n",
    "    <!-- Clases enumeradas para valores restringidos -->\n",
    "    <owl:Class rdf:about=\"cvu:SexoEnum\">\n",
    "        <owl:oneOf rdf:parseType=\"Collection\">\n",
    "            <rdf:Description rdf:about=\"cvu:Masculino\"/>\n",
    "            <rdf:Description rdf:about=\"cvu:Femenino\"/>\n",
    "        </owl:oneOf>\n",
    "    </owl:Class>\n",
    "\n",
    "    <owl:Class rdf:about=\"cvu:EstadoCivilEnum\">\n",
    "        <owl:oneOf rdf:parseType=\"Collection\">\n",
    "            <rdf:Description rdf:about=\"cvu:Soltero\"/>\n",
    "            <rdf:Description rdf:about=\"cvu:Casado\"/>\n",
    "            <rdf:Description rdf:about=\"cvu:Divorciado\"/>\n",
    "            <rdf:Description rdf:about=\"cvu:Viudo\"/>\n",
    "        </owl:oneOf>\n",
    "    </owl:Class>\n",
    "\n",
    "    <!-- Propiedades de objeto que restringen Sexo y EstadoCivil -->\n",
    "    <owl:ObjectProperty rdf:about=\"cvu:tieneSexo\">\n",
    "        <rdfs:domain rdf:resource=\"cvu:InformacionGeneral\"/>\n",
    "        <rdfs:range rdf:resource=\"cvu:SexoEnum\"/>\n",
    "    </owl:ObjectProperty>\n",
    "\n",
    "    <owl:ObjectProperty rdf:about=\"cvu:tieneEstadoCivil\">\n",
    "        <rdfs:domain rdf:resource=\"cvu:InformacionGeneral\"/>\n",
    "        <rdfs:range rdf:resource=\"cvu:EstadoCivilEnum\"/>\n",
    "    </owl:ObjectProperty>\n",
    "\n",
    "    <!-- Restricción en InformacionGeneral -->\n",
    "    <owl:Class rdf:about=\"cvu:InformacionGeneral\">\n",
    "        <rdfs:subClassOf>\n",
    "            <owl:Restriction>\n",
    "                <owl:onProperty rdf:resource=\"cvu:tieneSexo\"/>\n",
    "                <owl:qualifiedCardinality rdf:datatype=\"xsd:nonNegativeInteger\">1</owl:qualifiedCardinality>\n",
    "                <owl:onClass rdf:resource=\"cvu:SexoEnum\"/>\n",
    "            </owl:Restriction>\n",
    "        </rdfs:subClassOf>\n",
    "\n",
    "        <rdfs:subClassOf>\n",
    "            <owl:Restriction>\n",
    "                <owl:onProperty rdf:resource=\"cvu:tieneEstadoCivil\"/>\n",
    "                <owl:qualifiedCardinality rdf:datatype=\"xsd:nonNegativeInteger\">1</owl:qualifiedCardinality>\n",
    "                <owl:onClass rdf:resource=\"cvu:EstadoCivilEnum\"/>\n",
    "            </owl:Restriction>\n",
    "        </rdfs:subClassOf>\n",
    "    </owl:Class>\n",
    "\n",
    "    <owl:Class rdf:about=\"cvu:PersonaValida\">\n",
    "        <rdfs:subClassOf rdf:resource=\"cvu:InformacionGeneral\"/>\n",
    "        <rdfs:subClassOf>\n",
    "            <owl:Restriction>\n",
    "                <owl:onProperty rdf:resource=\"cvu:FechaNacimiento\"/>\n",
    "                <owl:allValuesFrom>\n",
    "                    <rdfs:Datatype rdf:about=\"xsd:date\">\n",
    "                        <owl:withRestrictions>\n",
    "                            <rdf:Description>\n",
    "                                <xsd:maxInclusive>2023-12-31</xsd:maxInclusive>\n",
    "                            </rdf:Description>\n",
    "                        </owl:withRestrictions>\n",
    "                    </rdfs:Datatype>\n",
    "                </owl:allValuesFrom>\n",
    "            </owl:Restriction>\n",
    "        </rdfs:subClassOf>\n",
    "    </owl:Class>\n",
    "\n",
    "</rdf:RDF>\n",
    "```"
   ]
  },
  {
   "cell_type": "markdown",
   "id": "be0da218-9f14-4f8b-8173-c779001ee58e",
   "metadata": {},
   "source": [
    "<div style=\"background-color:#1a396a; color:white; padding:10px; border-radius:5px;\">\n",
    "\n",
    "### Conversor de XML a RDF\n",
    "</div>"
   ]
  },
  {
   "cell_type": "code",
   "execution_count": 1,
   "id": "383d2bcc-ef0c-4b88-941f-8d0b9879c232",
   "metadata": {},
   "outputs": [],
   "source": [
    "# ! pip install xmltodict rdflib"
   ]
  },
  {
   "cell_type": "code",
   "execution_count": 2,
   "id": "1a749db1-0b25-4850-87a1-f6ebac9aba8d",
   "metadata": {},
   "outputs": [
    {
     "name": "stdout",
     "output_type": "stream",
     "text": [
      "Conversión a RDF completada. Archivo guardado como Data.rdf\n"
     ]
    }
   ],
   "source": [
    "import xmltodict\n",
    "from rdflib import Graph, URIRef, Literal, Namespace\n",
    "from rdflib.namespace import RDF, XSD\n",
    "\n",
    "# Cargar el XML como diccionario\n",
    "with open(\"Data.xml\", \"r\", encoding=\"utf-8\") as file:\n",
    "    data = xmltodict.parse(file.read())\n",
    "\n",
    "# Crear un grafo RDF\n",
    "g = Graph()\n",
    "\n",
    "# Definir un namespace\n",
    "NS = Namespace(\"http://example.org/cvu#\")\n",
    "\n",
    "# Extraer datos del XML y convertirlos en tripletas RDF\n",
    "cvu = data.get(\"cvu\", {})\n",
    "personal_data = cvu.get(\"personalData\", {})\n",
    "\n",
    "# Crear la URI de la persona\n",
    "persona_uri = URIRef(NS[\"persona1\"])\n",
    "g.add((persona_uri, RDF.type, URIRef(NS[\"Persona\"])))\n",
    "\n",
    "for key, value in personal_data.items():\n",
    "    predicate = URIRef(NS[key])  # Convierte el nombre del campo en propiedad RDF\n",
    "    obj = Literal(value, datatype=XSD.string)  # Convierte el valor en literal RDF\n",
    "    g.add((persona_uri, predicate, obj))\n",
    "\n",
    "# Guardar el RDF en un archivo\n",
    "g.serialize(\"Data.rdf\", format=\"xml\", encoding=\"utf-8\")\n",
    "\n",
    "print(\"Conversión a RDF completada. Archivo guardado como Data.rdf\")"
   ]
  },
  {
   "cell_type": "markdown",
   "id": "500aeefa-066d-43f7-ba15-0a2b42a6ab4b",
   "metadata": {},
   "source": [
    "<div style=\"background-color:#1a396a; color:white; padding:10px; border-radius:5px;\">\n",
    "\n",
    "### Código para validar que el archivo RDF cumple con la ontología OWL\n",
    "</div>"
   ]
  },
  {
   "cell_type": "code",
   "execution_count": 3,
   "id": "569a4979-4846-417e-a851-0b2c9310d15c",
   "metadata": {},
   "outputs": [],
   "source": [
    "#! pip install rdflib owlrl"
   ]
  },
  {
   "cell_type": "code",
   "execution_count": 4,
   "id": "56f94178-5a8b-4c8a-ab9c-be48ef02e90d",
   "metadata": {},
   "outputs": [
    {
     "name": "stdout",
     "output_type": "stream",
     "text": [
      "El RDF cumple con la ontología OWL.\n"
     ]
    }
   ],
   "source": [
    "from rdflib import Graph\n",
    "from owlrl import DeductiveClosure, OWLRL_Semantics\n",
    "\n",
    "# Cargar la ontología OWL\n",
    "onto = Graph()\n",
    "onto.parse(\"Ontologia.owl\", format=\"xml\")\n",
    "\n",
    "# Cargar el RDF generado desde el XML\n",
    "rdf_data = Graph()\n",
    "rdf_data.parse(\"Data.rdf\", format=\"xml\")\n",
    "\n",
    "# Aplicar razonamiento OWL\n",
    "DeductiveClosure(OWLRL_Semantics).expand(rdf_data)\n",
    "\n",
    "# Verificar si los datos cumplen con la ontología\n",
    "errors = []\n",
    "for s, p, o in rdf_data:\n",
    "    if (s, p, o) not in onto and (s, p, o) not in rdf_data:\n",
    "        errors.append(f\"ERROR: {s} {p} {o} no está definido en la ontología\")\n",
    "\n",
    "# Mostrar resultados\n",
    "if errors:\n",
    "    for error in errors:\n",
    "        print(error)\n",
    "else:\n",
    "    print(\"El RDF cumple con la ontología OWL.\")"
   ]
  }
 ],
 "metadata": {
  "kernelspec": {
   "display_name": "Python 3 (ipykernel)",
   "language": "python",
   "name": "python3"
  },
  "language_info": {
   "codemirror_mode": {
    "name": "ipython",
    "version": 3
   },
   "file_extension": ".py",
   "mimetype": "text/x-python",
   "name": "python",
   "nbconvert_exporter": "python",
   "pygments_lexer": "ipython3",
   "version": "3.12.9"
  }
 },
 "nbformat": 4,
 "nbformat_minor": 5
}
